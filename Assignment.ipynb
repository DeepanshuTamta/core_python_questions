{
 "cells": [
  {
   "cell_type": "markdown",
   "id": "e0a4243c",
   "metadata": {},
   "source": [
    "### Assignment 1\n",
    "## Fundamentals and operators"
   ]
  },
  {
   "cell_type": "markdown",
   "id": "95855c51",
   "metadata": {},
   "source": [
    "### 1 Write a Python program to print the “ /n “"
   ]
  },
  {
   "cell_type": "code",
   "execution_count": 2,
   "id": "ea5f4326",
   "metadata": {},
   "outputs": [
    {
     "name": "stdout",
     "output_type": "stream",
     "text": [
      "\\n\n"
     ]
    }
   ],
   "source": [
    "\n",
    "\n",
    "print(\"\\\\n\")"
   ]
  },
  {
   "cell_type": "markdown",
   "id": "9378fe00",
   "metadata": {},
   "source": [
    "## 2 Write a Python program to print the “ \\n ”"
   ]
  },
  {
   "cell_type": "code",
   "execution_count": 1,
   "id": "8f1beceb",
   "metadata": {},
   "outputs": [
    {
     "name": "stdout",
     "output_type": "stream",
     "text": [
      "/n\n"
     ]
    }
   ],
   "source": [
    "\n",
    "print(\"/n\")"
   ]
  },
  {
   "cell_type": "markdown",
   "id": "65c3ffcf",
   "metadata": {},
   "source": [
    "## 3 Write a Python program which accepts the radius of a circle from the user and compute the area.\n",
    " formulae to calculate area of circle:  πr²"
   ]
  },
  {
   "cell_type": "code",
   "execution_count": 4,
   "id": "3bf7179e",
   "metadata": {},
   "outputs": [
    {
     "name": "stdout",
     "output_type": "stream",
     "text": [
      "radius of the circle7\n",
      "area of circle is 1077.02\n"
     ]
    }
   ],
   "source": [
    "\n",
    "\n",
    "r= float(input(\"radius of the circle\"))\n",
    "a= 3.14*r*r\n",
    "\n",
    "print(\"area of circle is\",r*a)"
   ]
  },
  {
   "cell_type": "markdown",
   "id": "3886bc33",
   "metadata": {},
   "source": [
    "## 4 Write a Python program to get the volume of a sphere with radius 6.\n",
    "formulae to calculate volume of sphere:  4/3 𝜋 r³\n"
   ]
  },
  {
   "cell_type": "code",
   "execution_count": 5,
   "id": "da037125",
   "metadata": {},
   "outputs": [
    {
     "name": "stdout",
     "output_type": "stream",
     "text": [
      "enter the radius7\n",
      "the volume of sphere is 1436.0266666666666\n"
     ]
    },
    {
     "data": {
      "text/plain": [
       "1436.03"
      ]
     },
     "execution_count": 5,
     "metadata": {},
     "output_type": "execute_result"
    }
   ],
   "source": [
    "\n",
    "r=float(input(\"enter the radius\"))\n",
    "a=4/3*3.14*r**3\n",
    "\n",
    "print(\"the volume of sphere is\",a)\n",
    "round(a,2)## to print value in round figure after decimal"
   ]
  },
  {
   "cell_type": "markdown",
   "id": "3f553f3a",
   "metadata": {},
   "source": [
    "## 5 Write a Python program to calculate the sum of three equal numbers, and the result is the three times of their sum."
   ]
  },
  {
   "cell_type": "code",
   "execution_count": 6,
   "id": "c1b6a02f",
   "metadata": {},
   "outputs": [
    {
     "name": "stdout",
     "output_type": "stream",
     "text": [
      "result is 450\n"
     ]
    }
   ],
   "source": [
    "\n",
    "\n",
    "a=50\n",
    "b=50\n",
    "c=50\n",
    "\n",
    "total=a+b+c\n",
    "\n",
    "result=total*3\n",
    "print(\"result is\",result)"
   ]
  },
  {
   "cell_type": "markdown",
   "id": "4093ac7b",
   "metadata": {},
   "source": [
    "## 6 Write a Python program that will accept the base and height of a triangle and compute the area\n",
    "formulae to calculate area of triangle :  1/2 base * height"
   ]
  },
  {
   "cell_type": "code",
   "execution_count": 7,
   "id": "628eb4b4",
   "metadata": {},
   "outputs": [
    {
     "name": "stdout",
     "output_type": "stream",
     "text": [
      "base of the triangle5\n",
      "height of the triangle7\n",
      "area will be 17.5\n"
     ]
    }
   ],
   "source": [
    "\n",
    "\n",
    "b=int(input(\"base of the triangle\"))\n",
    "h=int(input(\"height of the triangle\"))\n",
    "\n",
    "a=1/2*b*h\n",
    "print(\"area will be\",a)"
   ]
  },
  {
   "cell_type": "markdown",
   "id": "6497bc03",
   "metadata": {},
   "source": [
    "## 7 Write a Python program to solve (x + y) * (x + y) \n",
    "Test Data : x = 4, y = 3\n",
    "Expected Output :   49"
   ]
  },
  {
   "cell_type": "code",
   "execution_count": 8,
   "id": "4648e940",
   "metadata": {},
   "outputs": [
    {
     "name": "stdout",
     "output_type": "stream",
     "text": [
      "49\n"
     ]
    }
   ],
   "source": [
    "\n",
    "\n",
    "x=4\n",
    "y=3\n",
    "\n",
    "a=x+y\n",
    "b=x+y\n",
    "result=a*b\n",
    "print(result)"
   ]
  },
  {
   "cell_type": "markdown",
   "id": "f1f9cd7e",
   "metadata": {},
   "source": [
    "## 8 Write a Python program to compute the simple interest of a specified principal amount, rate of interest, and a number of years.\n",
    "Test Data : amt = 10000, int = 3.5, years = 7"
   ]
  },
  {
   "cell_type": "code",
   "execution_count": 9,
   "id": "0255b8a1",
   "metadata": {},
   "outputs": [
    {
     "name": "stdout",
     "output_type": "stream",
     "text": [
      "si will be 245000.0\n"
     ]
    }
   ],
   "source": [
    "\n",
    "\n",
    "p=10000\n",
    "r=3.5\n",
    "t=7\n",
    "\n",
    "result=p*r*t\n",
    "print(\"si will be\",result)"
   ]
  },
  {
   "cell_type": "markdown",
   "id": "d9942671",
   "metadata": {},
   "source": [
    "## 9 Write a Python program to convert (parse) a string to Float or Integer.\n",
    "Test Data : \"246.2458\"\n",
    "Expected Output : 246"
   ]
  },
  {
   "cell_type": "code",
   "execution_count": 10,
   "id": "ed918dc0",
   "metadata": {},
   "outputs": [
    {
     "name": "stdout",
     "output_type": "stream",
     "text": [
      "246.2458\n",
      "<class 'str'>\n",
      "246.2458\n",
      "<class 'float'>\n",
      "246\n",
      "<class 'int'>\n"
     ]
    }
   ],
   "source": [
    "\n",
    "\n",
    "a=\"246.2458\"\n",
    "print(a)\n",
    "print(type(a))\n",
    "b=float(a)\n",
    "print(b)\n",
    "print(type(b))\n",
    "c=int(b)\n",
    "print(c)\n",
    "print(type(c))"
   ]
  },
  {
   "cell_type": "markdown",
   "id": "51059175",
   "metadata": {},
   "source": [
    "## 10 Write a Python program to swap two variables\n",
    "Test Data : a = 77, x= 1\n",
    "Expected Output : a= 1, x=77"
   ]
  },
  {
   "cell_type": "code",
   "execution_count": 11,
   "id": "6a9b0ce0",
   "metadata": {},
   "outputs": [
    {
     "name": "stdout",
     "output_type": "stream",
     "text": [
      "value of a 1\n",
      "value of x 77\n"
     ]
    }
   ],
   "source": [
    "\n",
    "\n",
    "a=77\n",
    "x=1\n",
    "\n",
    "y=a\n",
    "a=x\n",
    "x=y\n",
    "\n",
    "print(\"value of a\",a)\n",
    "print(\"value of x\",x)"
   ]
  },
  {
   "cell_type": "markdown",
   "id": "9765260f",
   "metadata": {},
   "source": [
    "## 11 Write a Python program to calculate the cube of any number which was taken by input."
   ]
  },
  {
   "cell_type": "code",
   "execution_count": 12,
   "id": "6d565977",
   "metadata": {},
   "outputs": [
    {
     "name": "stdout",
     "output_type": "stream",
     "text": [
      "any number7\n",
      "cube of any number is 343\n"
     ]
    }
   ],
   "source": [
    "\n",
    "\n",
    "n=int(input(\"any number\"))\n",
    "\n",
    "cube=n*n*n\n",
    "\n",
    "print(\"cube of any number is\",  cube)"
   ]
  },
  {
   "cell_type": "markdown",
   "id": "9568abbb",
   "metadata": {},
   "source": [
    "## Assignment 2\n",
    "## Conditional Statements Questions"
   ]
  },
  {
   "cell_type": "markdown",
   "id": "a28a4df6",
   "metadata": {},
   "source": [
    "## 1 write a program to check the number is positive or negative or zero\n"
   ]
  },
  {
   "cell_type": "code",
   "execution_count": 3,
   "id": "0f6f4d89",
   "metadata": {},
   "outputs": [
    {
     "name": "stdout",
     "output_type": "stream",
     "text": [
      "enter the number-1\n",
      "number is negative\n"
     ]
    }
   ],
   "source": [
    "\n",
    "num=int(input(\"enter the number\"))\n",
    "if num>0:\n",
    "    print(\"number is positive \")\n",
    "elif num==0:\n",
    "    print(\"number is zero\")\n",
    "else:\n",
    "    print(\"number is negative\")"
   ]
  },
  {
   "cell_type": "markdown",
   "id": "960ecd83",
   "metadata": {},
   "source": [
    "## 2 WAP to take a number from user and check if number is divisble by 7 or not, also check if it is divisble by 5 or not , and if the no is divisible by both 5 and 7 print as magic no'"
   ]
  },
  {
   "cell_type": "code",
   "execution_count": 8,
   "id": "8341d6a9",
   "metadata": {},
   "outputs": [
    {
     "name": "stdout",
     "output_type": "stream",
     "text": [
      "enter the number55\n",
      "55 is divisble by 5\n"
     ]
    }
   ],
   "source": [
    "\n",
    "\n",
    "num=int(input(\"enter the number\"))\n",
    "if num%7==0 and num%5==0:\n",
    "    print(num, \"is magic number\") \n",
    "elif num%5==0:\n",
    "    print(num,\"is divisble by 5\")\n",
    "elif num%7==0:\n",
    "    print(num, \"is divisible by 7\")"
   ]
  },
  {
   "cell_type": "markdown",
   "id": "200ce95b",
   "metadata": {},
   "source": [
    "## 3 WAP to check wether the entered number is odd or even if it is odd then also check it is divisble by 7 if it is divisble by 7 then compute its cube'''"
   ]
  },
  {
   "cell_type": "code",
   "execution_count": 17,
   "id": "c955da27",
   "metadata": {},
   "outputs": [
    {
     "name": "stdout",
     "output_type": "stream",
     "text": [
      "enter the number7\n",
      "7 is odd number\n",
      "343 is cube of odd number\n"
     ]
    }
   ],
   "source": [
    "\n",
    "\n",
    "num=int(input(\"enter the number\"))\n",
    "if num%2==0:\n",
    "    print(num, \"is even number\")\n",
    "else:\n",
    "    print(num, \"is odd number\")\n",
    "    if num%7==0:\n",
    "        print(num**3,\"is cube of odd number\")\n",
    "        \n",
    "      \n",
    "        \n"
   ]
  },
  {
   "cell_type": "markdown",
   "id": "c9d5ee49",
   "metadata": {},
   "source": [
    "## 4 write a program to take a username and password from the user and if it matches with 'pramod123' and '123456789'. welcome to the website else report invalid username and password"
   ]
  },
  {
   "cell_type": "code",
   "execution_count": 20,
   "id": "21af4061",
   "metadata": {},
   "outputs": [
    {
     "name": "stdout",
     "output_type": "stream",
     "text": [
      "enter the usernamepramod\n",
      "enter the password12345\n",
      "invalid username and password\n"
     ]
    }
   ],
   "source": [
    "\n",
    "\n",
    "username=(input(\"enter the username\"))\n",
    "password=(input(\"enter the password\"))\n",
    "if username==\"pramod123\" and password==\"123456789\":\n",
    "    print(\"welcome to the website\")\n",
    "else:\n",
    "    print(\"invalid username and password\")"
   ]
  },
  {
   "cell_type": "markdown",
   "id": "548451d1",
   "metadata": {},
   "source": [
    "## 5 Write a python program to take the three numbers as input and find the largest number."
   ]
  },
  {
   "cell_type": "code",
   "execution_count": 23,
   "id": "e73492df",
   "metadata": {},
   "outputs": [
    {
     "name": "stdout",
     "output_type": "stream",
     "text": [
      "enter the first number55\n",
      "enter the second number66\n",
      "enter the second number33\n",
      "num2 is greater number\n"
     ]
    }
   ],
   "source": [
    "\n",
    "\n",
    "num1=int(input(\"enter the first number\"))\n",
    "num2=int(input(\"enter the second number\"))\n",
    "num3=int(input(\"enter the second number\"))\n",
    "if num1>num2 and num1>num2:\n",
    "    print(\"num1 is greater number\")\n",
    "elif num2>num1 and num2>num3:\n",
    "    print(\"num2 is greater number\")\n",
    "else:\n",
    "    print( \"num3 is greater number\")"
   ]
  },
  {
   "cell_type": "markdown",
   "id": "07bfde78",
   "metadata": {},
   "source": [
    "## 6 Write a python  program that reads three positive numbers a, b, c and determines whether they can form the three sides of a triangle.\n",
    "HINT: in triangle the sum of two side is greater than third side\n",
    " "
   ]
  },
  {
   "cell_type": "code",
   "execution_count": 29,
   "id": "a3741a51",
   "metadata": {},
   "outputs": [
    {
     "name": "stdout",
     "output_type": "stream",
     "text": [
      "first side of the triangle5\n",
      "second side of the triangle10\n",
      "third side of the triangle15\n",
      "they can form triangle\n"
     ]
    }
   ],
   "source": [
    "\n",
    "\n",
    "a=int(input(\"first side of the triangle\"))\n",
    "b=int(input(\"second side of the triangle\"))\n",
    "c=int(input(\"third side of the triangle\"))\n",
    "\n",
    "if (a+b)>c or (b+c)>a or (a+c)>b:\n",
    "    print(\"they can form triangle\")\n",
    "else:\n",
    "    print(\"they cannot form triangle\")\n",
    " "
   ]
  },
  {
   "cell_type": "markdown",
   "id": "0a081712",
   "metadata": {},
   "source": [
    "## 7 Write a python program  to check the triangle , is equilateral, isosceles, or scalene.\n",
    "HINT:\n",
    "In Equilateral triangle all three sides are equal\n",
    "In isosceles triangle any two side are equal\n",
    "In scalene triangle all three side are unequal\n"
   ]
  },
  {
   "cell_type": "code",
   "execution_count": 37,
   "id": "93283225",
   "metadata": {},
   "outputs": [
    {
     "name": "stdout",
     "output_type": "stream",
     "text": [
      "enter the side11\n",
      "enter the side22\n",
      "enter the side31\n",
      "isosceles triangle\n"
     ]
    }
   ],
   "source": [
    "\n",
    "\n",
    "a=int(input(\"enter the side1\"))\n",
    "b=int(input(\"enter the side2\"))\n",
    "c=int(input(\"enter the side3\"))\n",
    "\n",
    "if a==b and b==c and c==a:\n",
    "    print(\"equuilateral triangle\")\n",
    "elif a==b or b==c or c==a:\n",
    "    print(\"isosceles triangle\")\n",
    "else:\n",
    "    print(\"scalene triangl\")"
   ]
  },
  {
   "cell_type": "markdown",
   "id": "31ec3b20",
   "metadata": {},
   "source": [
    "## 8 A toy vendor supplies three types of toys: Battery Based Toys, Key-based Toys, and Electrical Charging Based Toys. The vendor gives a discount of 10% on orders for battery-based toys if the order is for more than Rs. 1000. On orders of more than Rs. 100 for key-based toys, a discount of 5% is given, and a discount of 10% is given on orders for electrical charging based toys of value more than Rs. 500. Assume that the numeric codes 1,2 and 3 are used for battery based toys, key-based toys, and electrical charging based toys respectively. Write a program that reads the product code and the order amount and prints out the net amount that the customer is required to pay after the discount."
   ]
  },
  {
   "cell_type": "code",
   "execution_count": 13,
   "id": "888e53b1",
   "metadata": {},
   "outputs": [
    {
     "name": "stdout",
     "output_type": "stream",
     "text": [
      "welcome to toy store\n",
      "\n",
      "\n",
      "1--battery toys:: Rs 200\n",
      " 2---key toys :: Rs 50\n",
      " 3---charging toys :: Rs 150\n",
      "what type of toy do you like to have3\n",
      "your amount is 150\n",
      "10 % discount on orders above 500\n",
      "enter the qty5\n",
      "your final price after disc is 675.0\n"
     ]
    }
   ],
   "source": [
    "\n",
    "\n",
    "amount=0\n",
    "qty=0\n",
    "print(\"welcome to toy store\\n\\n\")\n",
    "print(\"1--battery toys:: Rs 200\\n 2---key toys :: Rs 50\\n 3---charging toys :: Rs 150\")\n",
    "choice=input(\"what type of toy do you like to have\")\n",
    "if choice==\"1\":\n",
    "    amount=200\n",
    "    print(\"your amount is\", amount)\n",
    "    print(\"10 % discount on orders above 1000\")\n",
    "    qty=int(input(\"enter the qty\"))\n",
    "    if qty>5:\n",
    "        amount=200*qty\n",
    "        disc= amount/10\n",
    "        print(\"your final price after disc is\", amount-disc)\n",
    "    elif qty<5:\n",
    "        amount=200*qty\n",
    "        print(\"your final price is\",amount)\n",
    "    else:\n",
    "        print(\"this toy is not available\")\n",
    "elif choice==\"2\":    \n",
    "    amount=50\n",
    "    print(\"your amount is\",amount)\n",
    "    print(\"5 % discount on orders above 100\")\n",
    "    qty=int(input(\"enter the qty\"))\n",
    "    if qty>2:\n",
    "        amount=50*qty\n",
    "        disc=amount/5\n",
    "        print(\"your final price after disc is\", amount-disc)\n",
    "    elif qty<2:\n",
    "        amount=50*qty\n",
    "        print(\"your final price is\",amount)\n",
    "    else:\n",
    "        print(\"this toy is not available\")\n",
    "elif choice==\"3\":\n",
    "    amount=150\n",
    "    print(\"your amount is\",amount)\n",
    "    print(\"10 % discount on orders above 500\")\n",
    "    qty=int(input(\"enter the qty\"))\n",
    "    if qty>3:\n",
    "        amount=150*qty\n",
    "        disc=amount/10\n",
    "        print(\"your final price after disc is\", amount-disc)\n",
    "    elif qty<3:\n",
    "        amount=150*qty\n",
    "        print(\"your final price is\",amount)\n",
    "    else:\n",
    "        print(\"this toy is not available\")\n",
    "else:\n",
    "    print(\"this toy is not available\")\n",
    "    \n",
    "   "
   ]
  },
  {
   "cell_type": "markdown",
   "id": "f824f9a1",
   "metadata": {},
   "source": [
    "## 9 11. The Paschim Gujarat Vij Company Ltd. computes the electricity bill based on the following table:\n",
    "Units Consumed\n",
    "Charges\n",
    "0-100\n",
    "0.50 per unit\n",
    "101-200\n",
    "Rs. 50 plus Rs. 1 per unit over 100 units\n",
    "201-300\n",
    "Rs. 150 plus 1.50 per unit over 200 units\n",
    "> 300\n",
    "Rs. 300 plus Rs.2 per unit over 300 units\n",
    " Hint : 300+(500-300)*2 if unit is 500\n",
    "\n",
    "\n",
    "\n",
    "\n",
    "\n",
    "Ask user to enter the Past meter reading and current meter reading.\n",
    "Find the units consumed.\n",
    "Compute the bill according to given matrix.\n"
   ]
  },
  {
   "cell_type": "code",
   "execution_count": null,
   "id": "5ca90c08",
   "metadata": {},
   "outputs": [],
   "source": [
    "\n",
    "\n",
    "past_mr=float(input(\"enter past meter reading  \"))\n",
    "current_mr=float(input(\"enter current meter reading  \"))\n",
    "untcon=current_mr-past_mr\n",
    "if untcon>=0 and untcon<=100:\n",
    "    print(\"your bill is\",untcon*0.50)\n",
    "elif untcon>100 and untcon<=200:\n",
    "    print(\"your bill is\" , untcon*1+50)\n",
    "elif untcon>200 and untcon<=300:\n",
    "    print(\"your bill is\", untcon*1.50+150)\n",
    "elif untcon>300:\n",
    "    print(\"your bill is\", untcon*2+300)\n",
    "else:\n",
    "    print(\"invalid input\")"
   ]
  },
  {
   "cell_type": "markdown",
   "id": "b72a4218",
   "metadata": {},
   "source": [
    "## 11 .Consider you have your own restaurant : three item choices  is there :\n",
    "1: pizza\n",
    "2:  burger\n",
    "3:  hotdog\n",
    "toppings available for pizza: paneer, mushrooms, and capsicum\n",
    "fillings avialable for burger and hot dog is  single layer cheeze and double layer cheese\n",
    "and side order menu is softdrinks\n",
    "WAP TO CALCULATE THE COST OF ITEM which user ordered BASED ON THE MENU OF RESTAURANT'''\n"
   ]
  },
  {
   "cell_type": "code",
   "execution_count": 27,
   "id": "c0dd95e4",
   "metadata": {},
   "outputs": [
    {
     "name": "stdout",
     "output_type": "stream",
     "text": [
      "welcome to masala chopsy\n",
      "\n",
      "\n",
      "1---pizza ::: Rs 150\n",
      " 2---burger ::: Rs 80\n",
      " 3--hotdog ::: Rs 120\n",
      "what would you like to have4\n",
      "this item isnot avaliable...thanku..!!!!! 0\n",
      "would u like to have softdrink yes or noyes\n",
      "pe----  pepsi  ---- 200 Rs\n",
      "\n",
      "le----- lemonade --- 300 Rs\n",
      "enter the your choicele\n",
      "ur final amount is  300\n"
     ]
    }
   ],
   "source": [
    "\n",
    "\n",
    "amount=0\n",
    "print(\"welcome to masala chopsy\\n\\n\")\n",
    "print(\"1---pizza ::: Rs 150\\n 2---burger ::: Rs 80\\n 3--hotdog ::: Rs 120\")\n",
    "choice=input(\"what would you like to have\")\n",
    "if choice==\"1\":\n",
    "    print(\"p--- paneer ::  Rs 50\\nm--- mashroom ::  Rs 40\\nc--- capsicum ::  Rs 25\")\n",
    "    c_t=input(\"enter the choice fr toppings\")\n",
    "    if c_t==\"p\":\n",
    "        amount=150+50\n",
    "        print(\"your amount is \",amount)\n",
    "    elif c_t==\"m\":\n",
    "        amount=150+40\n",
    "        print(\"your amount is \",amount)\n",
    "    elif c_t==\"c\":\n",
    "        amount=150+25\n",
    "        print(\"your amount is \",amount)\n",
    "    else:\n",
    "        print(\"that toping is not avaliable\")\n",
    "elif choice==\"2\":\n",
    "    print(\"sc--- single layer cheeze::  Rs 50\\ndc--- double layer cheeze::  Rs 80\")\n",
    "    c_t=input(\"enter the choice fr filling\")\n",
    "    if c_t==\"sc\":\n",
    "        amount=80+50\n",
    "        print(\"your amount is \",amount)\n",
    "    elif c_t==\"dc\":\n",
    "        amount=80+80\n",
    "        print(\"your amount is \",amount)\n",
    "    else:\n",
    "        print(\"that filling is not avaliable\")\n",
    "elif choice==\"3\":\n",
    "    print(\"sc--- single layer cheeze::  Rs 70\\ndc--- double layer cheeze::  Rs 100\")\n",
    "    c_t=input(\"enter the choice fr filling\")\n",
    "    if c_t==\"sc\":\n",
    "        amount=120+70\n",
    "        print(\"your amount is \",amount)\n",
    "    elif c_t==\"dc\":\n",
    "        amount=120+100\n",
    "        print(\"your amount is \",amount)\n",
    "    else:\n",
    "        print(\"that filling is not avaliable\")\n",
    "else:\n",
    "    print(\"this item isnot avaliable...thanku..!!!!!\",amount)\n",
    "choice=input(\"would u like to have softdrink yes or no\")\n",
    "if choice==\"yes\":\n",
    "    print(\"pe----  pepsi  ---- 200 Rs\\n\\nle----- lemonade --- 300 Rs\")\n",
    "    choice=input(\"enter the your choice\")\n",
    "    if choice==\"le\":\n",
    "        amount=amount+300\n",
    "        print(\"ur final amount is \",amount)\n",
    "    elif choice==\"pe\":\n",
    "        amount=amount+200\n",
    "        print(\"ur final amount is \",amount)\n",
    "    else:\n",
    "        print(\"this option is available\")\n",
    "else:\n",
    "    print(\"thankuuu \")"
   ]
  },
  {
   "cell_type": "markdown",
   "id": "9cec8c52",
   "metadata": {},
   "source": [
    "## Assignment 3\n",
    "## Loops questions"
   ]
  },
  {
   "cell_type": "markdown",
   "id": "6870cf61",
   "metadata": {},
   "source": [
    "## 1 Write a program whether the given list of number is lucky.  a lucky list contains at least one number is divisible by 7."
   ]
  },
  {
   "cell_type": "code",
   "execution_count": 7,
   "id": "a4c9df1e",
   "metadata": {},
   "outputs": [
    {
     "name": "stdout",
     "output_type": "stream",
     "text": [
      "this list have 1 lucky numbers\n"
     ]
    }
   ],
   "source": [
    "\n",
    "\n",
    "l=[11,12,13,15,35,16]\n",
    "count=0\n",
    "for i in l:\n",
    "    if i%7==0:\n",
    "        count=count+1\n",
    "        print(\"this list have\",count,\"lucky numbers\")\n"
   ]
  },
  {
   "cell_type": "markdown",
   "id": "6189f170",
   "metadata": {},
   "source": [
    "## Q.2 Write a program to sum of all numbers from 1 to given number."
   ]
  },
  {
   "cell_type": "code",
   "execution_count": 14,
   "id": "8e125f27",
   "metadata": {},
   "outputs": [
    {
     "name": "stdout",
     "output_type": "stream",
     "text": [
      "enter the end10\n",
      "sum of given numbers is 55\n"
     ]
    }
   ],
   "source": [
    "\n",
    "start=1\n",
    "end=int(input(\"enter the end\"))\n",
    "sum=0\n",
    "for i in range(start,end+1):\n",
    "    sum=sum+i\n",
    "print(\"sum of given numbers is\",sum)\n",
    "    \n"
   ]
  },
  {
   "cell_type": "markdown",
   "id": "02e42ee9",
   "metadata": {},
   "source": [
    "## Q.3 Write a program to check whether the given number is armstrong or not\n",
    "Armstrong number is a number that is equal to the sum of cubes of its digits. For example 0, 1, 153, 370, 371 and 407 are the Armstrong numbers.\n"
   ]
  },
  {
   "cell_type": "code",
   "execution_count": 10,
   "id": "932dd4a5",
   "metadata": {},
   "outputs": [
    {
     "name": "stdout",
     "output_type": "stream",
     "text": [
      "enter the number153\n",
      "the number is armstrong\n"
     ]
    }
   ],
   "source": [
    "\n",
    "\n",
    "num1=int(input(\"enter the number\"))\n",
    "temp=num1\n",
    "sum1=0\n",
    "while(num1!=0):\n",
    "    r=num1%10\n",
    "    num1=num1//10\n",
    "    n_cube=r**3\n",
    "    sum1=sum1+n_cube\n",
    "if sum1==temp:\n",
    "    print(\"the number is armstrong\")\n",
    "else:\n",
    "    print(\"not\")"
   ]
  },
  {
   "cell_type": "markdown",
   "id": "1e4c2132",
   "metadata": {},
   "source": [
    "## Q4. Write a program to print the following using while loop   \n",
    "a. First 10 Even numbers   \n",
    "b. First 10 Odd numbers   \n",
    "c. First 10 Natural numbers   \n",
    "d. First 10 Whole numbers   \n"
   ]
  },
  {
   "cell_type": "code",
   "execution_count": 11,
   "id": "46b74474",
   "metadata": {},
   "outputs": [
    {
     "name": "stdout",
     "output_type": "stream",
     "text": [
      "2\n",
      "4\n",
      "6\n",
      "8\n",
      "10\n",
      "12\n",
      "14\n",
      "16\n",
      "18\n",
      "20\n"
     ]
    }
   ],
   "source": [
    "##4\n",
    "#a\n",
    "\n",
    "\n",
    "i=1\n",
    "while(i<=20):\n",
    "    if i%2==0:\n",
    "        print(i)\n",
    "    i=i+1    \n",
    "      "
   ]
  },
  {
   "cell_type": "code",
   "execution_count": 9,
   "id": "7227b08d",
   "metadata": {},
   "outputs": [
    {
     "name": "stdout",
     "output_type": "stream",
     "text": [
      "1\n",
      "3\n",
      "5\n",
      "7\n",
      "9\n",
      "11\n",
      "13\n",
      "15\n",
      "17\n",
      "19\n"
     ]
    }
   ],
   "source": [
    "#b\n",
    "\n",
    "i=1\n",
    "while(i<=10):\n",
    "    print(2*i-1)\n",
    "    i=i+1   "
   ]
  },
  {
   "cell_type": "code",
   "execution_count": 10,
   "id": "550ca50a",
   "metadata": {},
   "outputs": [
    {
     "name": "stdout",
     "output_type": "stream",
     "text": [
      "1\n",
      "2\n",
      "3\n",
      "4\n",
      "5\n",
      "6\n",
      "7\n",
      "8\n",
      "9\n",
      "10\n"
     ]
    }
   ],
   "source": [
    "#c\n",
    "\n",
    "i=1\n",
    "while(i<=10):\n",
    "    print(i)\n",
    "    i=i+1"
   ]
  },
  {
   "cell_type": "code",
   "execution_count": 12,
   "id": "4941038d",
   "metadata": {},
   "outputs": [
    {
     "name": "stdout",
     "output_type": "stream",
     "text": [
      "0\n",
      "1\n",
      "2\n",
      "3\n",
      "4\n",
      "5\n",
      "6\n",
      "7\n",
      "8\n",
      "9\n"
     ]
    }
   ],
   "source": [
    "#d\n",
    "\n",
    "i=0\n",
    "while(i<=9):\n",
    "    print(i)\n",
    "    i=i+1"
   ]
  },
  {
   "cell_type": "markdown",
   "id": "5de01110",
   "metadata": {},
   "source": [
    "## Q5. Write a program to print first 10 integers and their squares using while loop.   \n",
    "1 1   \n",
    "2 4   \n",
    "3 9 and so on   \n"
   ]
  },
  {
   "cell_type": "code",
   "execution_count": 5,
   "id": "35b2ebf2",
   "metadata": {},
   "outputs": [
    {
     "name": "stdout",
     "output_type": "stream",
     "text": [
      "1 1\n",
      "2 4\n",
      "3 9\n",
      "4 16\n",
      "5 25\n",
      "6 36\n",
      "7 49\n",
      "8 64\n",
      "9 81\n",
      "10 100\n"
     ]
    }
   ],
   "source": [
    "\n",
    "\n",
    "i=1\n",
    "while(i<=10):\n",
    "    print(i,end=\" \")\n",
    "    print(i*i)\n",
    "    i=i+1"
   ]
  },
  {
   "cell_type": "code",
   "execution_count": null,
   "id": "3b94afd9",
   "metadata": {},
   "outputs": [],
   "source": []
  },
  {
   "cell_type": "code",
   "execution_count": 13,
   "id": "10c00d6e",
   "metadata": {},
   "outputs": [
    {
     "name": "stdout",
     "output_type": "stream",
     "text": [
      "10\n",
      "20\n",
      "30\n",
      "40\n",
      "50\n",
      "60\n",
      "70\n",
      "80\n",
      "90\n",
      "100\n",
      "110\n",
      "120\n",
      "130\n",
      "140\n",
      "150\n",
      "160\n",
      "170\n",
      "180\n",
      "190\n",
      "200\n",
      "210\n",
      "220\n",
      "230\n",
      "240\n",
      "250\n",
      "260\n",
      "270\n",
      "280\n",
      "290\n",
      "300\n"
     ]
    }
   ],
   "source": [
    "##6\n",
    "\n",
    "for i in range(10,301,10):\n",
    "    print(i)"
   ]
  },
  {
   "cell_type": "code",
   "execution_count": 18,
   "id": "fe1f1bff",
   "metadata": {},
   "outputs": [
    {
     "name": "stdout",
     "output_type": "stream",
     "text": [
      "105\n",
      "98\n",
      "91\n",
      "84\n",
      "77\n",
      "70\n",
      "63\n",
      "56\n",
      "49\n",
      "42\n",
      "35\n",
      "28\n",
      "21\n",
      "14\n",
      "7\n",
      "0\n"
     ]
    }
   ],
   "source": [
    "##7\n",
    "for i in range(105,-1,-7):\n",
    "    print(i)"
   ]
  },
  {
   "cell_type": "code",
   "execution_count": 29,
   "id": "2e769488",
   "metadata": {},
   "outputs": [
    {
     "name": "stdout",
     "output_type": "stream",
     "text": [
      "enter the start1\n",
      "enter the end10\n",
      "55\n"
     ]
    }
   ],
   "source": [
    "##8\n",
    "\n",
    "start=int(input(\"enter the start\"))\n",
    "end=int(input(\"enter the end\"))\n",
    "sum1=0\n",
    "for i in range(start,end+1):\n",
    "    sum1=sum1+i\n",
    "print(sum1)"
   ]
  },
  {
   "cell_type": "code",
   "execution_count": 30,
   "id": "8732e4ed",
   "metadata": {},
   "outputs": [
    {
     "name": "stdout",
     "output_type": "stream",
     "text": [
      "enter the number3\n",
      "enter the number7\n",
      "enter the number90\n",
      "enter the number10\n",
      "enter the number0\n",
      "the count of negative numbers 0\n",
      "the count of positive numbers 4\n",
      "the sum of positive number  110\n",
      "the sum of negative number 0\n"
     ]
    }
   ],
   "source": [
    "##9\n",
    "\n",
    "sum_p=0\n",
    "sum_n=0\n",
    "count_n=0\n",
    "count_p=0\n",
    "\n",
    "while(True):\n",
    "    num=int(input(\"enter the number\"))\n",
    "    if num>0:\n",
    "        count_p=count_p+1\n",
    "        sum_p=sum_p+num\n",
    "    elif num<0:\n",
    "        count_n=count_n+1\n",
    "        sum_n=sum_n+num\n",
    "    else:\n",
    "        break\n",
    "print(\"the count of negative numbers\",count_n)\n",
    "print(\"the count of positive numbers\",count_p)\n",
    "print(\"the sum of positive number \",sum_p)\n",
    "print(\"the sum of negative number\",sum_n)"
   ]
  },
  {
   "cell_type": "code",
   "execution_count": 21,
   "id": "acef7843",
   "metadata": {},
   "outputs": [
    {
     "name": "stdout",
     "output_type": "stream",
     "text": [
      "104\n",
      "130\n",
      "143\n",
      "169\n",
      "182\n",
      "208\n",
      "221\n",
      "247\n",
      "260\n",
      "286\n",
      "299\n",
      "325\n",
      "338\n",
      "364\n",
      "377\n",
      "403\n",
      "416\n",
      "442\n",
      "455\n",
      "481\n",
      "494\n"
     ]
    }
   ],
   "source": [
    "##10\n",
    "\n",
    "for i in range(101,500):\n",
    "    if i%13==0 and i%3!=0:\n",
    "        print(i)"
   ]
  },
  {
   "cell_type": "code",
   "execution_count": 39,
   "id": "f9199652",
   "metadata": {},
   "outputs": [
    {
     "name": "stdout",
     "output_type": "stream",
     "text": [
      "Enter 10 numbers\n",
      "enter the numbers1\n",
      "this is the smallest number\n",
      "enter the numbers2\n",
      "enter the numbers3\n",
      "enter the numbers4\n",
      "enter the numbers5\n",
      "enter the numbers7\n",
      "enter the numbers8\n",
      "enter the numbers5\n",
      "enter the numbers10\n",
      "enter the numbers0\n",
      "the largest number is 10\n"
     ]
    }
   ],
   "source": [
    "#11 we will do in the list\n",
    "\n",
    "lar=0\n",
    "print('Enter 10 numbers')\n",
    "for i in range(1,11):\n",
    "    n=int(input(\"enter the numbers\"))\n",
    "    if i==1:\n",
    "        print(\"this is the smallest number\")\n",
    "    elif n>lar:\n",
    "        lar=n\n",
    "print(\"the largest number is\",lar)"
   ]
  },
  {
   "cell_type": "code",
   "execution_count": 27,
   "id": "f05c0dff",
   "metadata": {},
   "outputs": [
    {
     "name": "stdout",
     "output_type": "stream",
     "text": [
      "enter the end20\n",
      "1\n",
      "2\n",
      "3\n",
      "4\n",
      "5\n",
      "6\n",
      "7\n",
      "8\n",
      "9\n",
      "10\n",
      "11\n",
      "12\n",
      "13\n",
      "14\n",
      "15\n",
      "16\n",
      "17\n",
      "18\n",
      "19\n",
      "20\n"
     ]
    }
   ],
   "source": [
    "#12\n",
    "\n",
    "end=int(input(\"enter the end\"))\n",
    "for i in range(1,end+1):\n",
    "    print(i*1)"
   ]
  },
  {
   "cell_type": "code",
   "execution_count": 29,
   "id": "df932e05",
   "metadata": {},
   "outputs": [
    {
     "name": "stdout",
     "output_type": "stream",
     "text": [
      "enter the end20\n",
      "1\n",
      "4\n",
      "9\n",
      "16\n",
      "25\n",
      "36\n",
      "49\n",
      "64\n",
      "81\n",
      "100\n",
      "121\n",
      "144\n",
      "169\n",
      "196\n",
      "225\n",
      "256\n",
      "289\n",
      "324\n",
      "361\n",
      "400\n"
     ]
    }
   ],
   "source": [
    "end=int(input(\"enter the end\"))\n",
    "\n",
    "for i in range(1,end+1):\n",
    "    print(i*i)"
   ]
  },
  {
   "cell_type": "code",
   "execution_count": 2,
   "id": "867af20a",
   "metadata": {},
   "outputs": [
    {
     "name": "stdout",
     "output_type": "stream",
     "text": [
      "enter the usernamesbfvr\n",
      "enter the passwordsdhbv\n",
      "incorrect details \n",
      " plz re enter\n",
      "enter the usernamesdbvsv\n",
      "enter the passworddsvbuv\n",
      "incorrect details \n",
      " plz re enter\n",
      "enter the usernamepramod123\n",
      "enter the password123456789\n",
      "sign in sucessfully\n"
     ]
    }
   ],
   "source": [
    "#13\n",
    "\n",
    "un=\"pramod123\"\n",
    "pw=\"123456789\"\n",
    "attempt=0\n",
    "while(True):\n",
    "    if attempt<5:\n",
    "        username=input(\"enter the username\")\n",
    "        password=input(\"enter the password\")\n",
    "        if username==un and password==pw:\n",
    "            print(\"sign in sucessfully\")\n",
    "            break\n",
    "        else:\n",
    "            attempt=attempt+1\n",
    "            print(\"incorrect details \\n plz re enter\")\n",
    "            continue\n",
    "    else:\n",
    "        print(\"u crossed the limit .. try again later\")\n",
    "        break\n",
    "        "
   ]
  },
  {
   "cell_type": "code",
   "execution_count": 24,
   "id": "cef1e67c",
   "metadata": {},
   "outputs": [
    {
     "name": "stdout",
     "output_type": "stream",
     "text": [
      "2002,2009,2016,2023,2030,2037,2044,2051,2058,2065,2072,2079,2086,2093,2100,2107,2114,2121,2128,2135,2142,2149,2156,2163,2170,2177,2184,2191,2198,2205,2212,2219,2226,2233,2240,2247,2254,2261,2268,2275,2282,2289,2296,2303,2310,2317,2324,2331,2338,2345,2352,2359,2366,2373,2380,2387,2394,2401,2408,2415,2422,2429,2436,2443,2450,2457,2464,2471,2478,2485,2492,2499,2506,2513,2520,2527,2534,2541,2548,2555,2562,2569,2576,2583,2590,2597,2604,2611,2618,2625,2632,2639,2646,2653,2660,2667,2674,2681,2688,2695,2702,2709,2716,2723,2730,2737,2744,2751,2758,2765,2772,2779,2786,2793,2800,2807,2814,2821,2828,2835,2842,2849,2856,2863,2870,2877,2884,2891,2898,2905,2912,2919,2926,2933,2940,2947,2954,2961,2968,2975,2982,2989,2996,3003,3010,3017,3024,3031,3038,3045,3052,3059,3066,3073,3080,3087,3094,3101,3108,3115,3122,3129,3136,3143,3150,3157,3164,3171,3178,3185,3192,3199,"
     ]
    }
   ],
   "source": [
    "#14\n",
    "\n",
    "\n",
    "for i in range(2000,3201):\n",
    "    if i%7==0 and i*5!=0:\n",
    "        print(i, end=\",\")\n"
   ]
  },
  {
   "cell_type": "code",
   "execution_count": 24,
   "id": "103c9d97",
   "metadata": {},
   "outputs": [
    {
     "name": "stdout",
     "output_type": "stream",
     "text": [
      "enter the four digit number in binary form0220\n",
      "220 is divisible by 5\n"
     ]
    }
   ],
   "source": [
    "#15\n",
    "\n",
    "number=int(input(\"enter the four digit number in binary form\"))\n",
    "if number%5==0:\n",
    "    print(number,\"is divisible by 5\")\n",
    "else:\n",
    "    print(\"not\")"
   ]
  },
  {
   "cell_type": "code",
   "execution_count": 23,
   "id": "140ff864",
   "metadata": {},
   "outputs": [
    {
     "name": "stdout",
     "output_type": "stream",
     "text": [
      "2000\n",
      "2002\n",
      "2004\n",
      "2006\n",
      "2008\n",
      "2020\n",
      "2022\n",
      "2024\n",
      "2026\n",
      "2028\n",
      "2040\n",
      "2042\n",
      "2044\n",
      "2046\n",
      "2048\n",
      "2060\n",
      "2062\n",
      "2064\n",
      "2066\n",
      "2068\n",
      "2080\n",
      "2082\n",
      "2084\n",
      "2086\n",
      "2088\n",
      "2200\n",
      "2202\n",
      "2204\n",
      "2206\n",
      "2208\n",
      "2220\n",
      "2222\n",
      "2224\n",
      "2226\n",
      "2228\n",
      "2240\n",
      "2242\n",
      "2244\n",
      "2246\n",
      "2248\n",
      "2260\n",
      "2262\n",
      "2264\n",
      "2266\n",
      "2268\n",
      "2280\n",
      "2282\n",
      "2284\n",
      "2286\n",
      "2288\n",
      "2400\n",
      "2402\n",
      "2404\n",
      "2406\n",
      "2408\n",
      "2420\n",
      "2422\n",
      "2424\n",
      "2426\n",
      "2428\n",
      "2440\n",
      "2442\n",
      "2444\n",
      "2446\n",
      "2448\n",
      "2460\n",
      "2462\n",
      "2464\n",
      "2466\n",
      "2468\n",
      "2480\n",
      "2482\n",
      "2484\n",
      "2486\n",
      "2488\n",
      "2600\n",
      "2602\n",
      "2604\n",
      "2606\n",
      "2608\n",
      "2620\n",
      "2622\n",
      "2624\n",
      "2626\n",
      "2628\n",
      "2640\n",
      "2642\n",
      "2644\n",
      "2646\n",
      "2648\n",
      "2660\n",
      "2662\n",
      "2664\n",
      "2666\n",
      "2668\n",
      "2680\n",
      "2682\n",
      "2684\n",
      "2686\n",
      "2688\n",
      "2800\n",
      "2802\n",
      "2804\n",
      "2806\n",
      "2808\n",
      "2820\n",
      "2822\n",
      "2824\n",
      "2826\n",
      "2828\n",
      "2840\n",
      "2842\n",
      "2844\n",
      "2846\n",
      "2848\n",
      "2860\n",
      "2862\n",
      "2864\n",
      "2866\n",
      "2868\n",
      "2880\n",
      "2882\n",
      "2884\n",
      "2886\n",
      "2888\n"
     ]
    }
   ],
   "source": [
    "#16\n",
    "\n",
    "for num in range(1000,3000):\n",
    "    number=num\n",
    "    count=0\n",
    "    while(num!=0):\n",
    "        ld=num%10\n",
    "        if ld%2==0:\n",
    "            count=count+1\n",
    "        num=num//10\n",
    "    if count==4:\n",
    "        print(number)"
   ]
  },
  {
   "cell_type": "code",
   "execution_count": 37,
   "id": "ac01a0d7",
   "metadata": {},
   "outputs": [
    {
     "name": "stdout",
     "output_type": "stream",
     "text": [
      "Enter the number1000\n",
      "The number of digits in the number are: 4\n"
     ]
    }
   ],
   "source": [
    "\n",
    "#17\n",
    "\n",
    "num=int(input(\"Enter the number\"))\n",
    "count=0\n",
    "while(num>0):\n",
    "    count=count+1\n",
    "    num=num//10\n",
    "print(\"The number of digits in the number are:\",count)"
   ]
  },
  {
   "cell_type": "markdown",
   "id": "d164cbf8",
   "metadata": {},
   "source": [
    "## Assignment 4"
   ]
  },
  {
   "cell_type": "markdown",
   "id": "52510bb6",
   "metadata": {},
   "source": [
    "## Q.1 Write a program to accept a string and display the string with changed case(Change upper and lower case)"
   ]
  },
  {
   "cell_type": "code",
   "execution_count": 3,
   "id": "5668d77d",
   "metadata": {},
   "outputs": [
    {
     "name": "stdout",
     "output_type": "stream",
     "text": [
      "enter the stringDeepanshu\n"
     ]
    },
    {
     "data": {
      "text/plain": [
       "'DEEPANSHU'"
      ]
     },
     "execution_count": 3,
     "metadata": {},
     "output_type": "execute_result"
    }
   ],
   "source": [
    "s=input(\"enter the string\")\n",
    "s1=s.lower()\n",
    "s1\n",
    "\n",
    "s2=s.upper()\n",
    "s2"
   ]
  },
  {
   "cell_type": "markdown",
   "id": "818271f6",
   "metadata": {},
   "source": [
    "## Q.2   Write a program to count the length of string without using len() function."
   ]
  },
  {
   "cell_type": "code",
   "execution_count": 5,
   "id": "1113eff7",
   "metadata": {},
   "outputs": [
    {
     "data": {
      "text/plain": [
       "9"
      ]
     },
     "execution_count": 5,
     "metadata": {},
     "output_type": "execute_result"
    }
   ],
   "source": [
    "s=\"deepanshu\"\n",
    "count_s=0\n",
    "for i in s:\n",
    "    count_s=count_s+1\n",
    "count_s  "
   ]
  },
  {
   "cell_type": "markdown",
   "id": "538e4205",
   "metadata": {},
   "source": [
    "## Q.3 Write a program to accept the string from user and display the ascii value for each letter."
   ]
  },
  {
   "cell_type": "code",
   "execution_count": 16,
   "id": "fd7c55a1",
   "metadata": {},
   "outputs": [
    {
     "name": "stdout",
     "output_type": "stream",
     "text": [
      "enter the stringdeepanshu\n",
      "d --- 100\n",
      "e --- 101\n",
      "e --- 101\n",
      "p --- 112\n",
      "a --- 97\n",
      "n --- 110\n",
      "s --- 115\n",
      "h --- 104\n",
      "u --- 117\n"
     ]
    }
   ],
   "source": [
    "s=input(\"enter the string\")\n",
    "lenght=len(s)\n",
    "for i in s:\n",
    "    Ascii=ord(i)\n",
    "    print(i,\"---\",Ascii)"
   ]
  },
  {
   "cell_type": "markdown",
   "id": "430bf5a3",
   "metadata": {},
   "source": [
    "## Q.4 Write a program that accepts the string and replace all spaces by “#” symbol."
   ]
  },
  {
   "cell_type": "code",
   "execution_count": 18,
   "id": "c2242c55",
   "metadata": {},
   "outputs": [
    {
     "data": {
      "text/plain": [
       "'hello#how#are#you#today'"
      ]
     },
     "execution_count": 18,
     "metadata": {},
     "output_type": "execute_result"
    }
   ],
   "source": [
    "s=\"hello how are you today\"\n",
    "s1=s.replace(\" \",\"#\")\n",
    "s1"
   ]
  },
  {
   "cell_type": "markdown",
   "id": "5760f0ae",
   "metadata": {},
   "source": [
    "## Q.5 Write a program that delete the character at specific position."
   ]
  },
  {
   "cell_type": "code",
   "execution_count": 19,
   "id": "494d2ee4",
   "metadata": {},
   "outputs": [
    {
     "name": "stdout",
     "output_type": "stream",
     "text": [
      "enter the string  madrid\n",
      "enter the characters to be deleted d\n"
     ]
    },
    {
     "data": {
      "text/plain": [
       "'marid'"
      ]
     },
     "execution_count": 19,
     "metadata": {},
     "output_type": "execute_result"
    }
   ],
   "source": [
    "s=input(\"enter the string  \")\n",
    "ch=input(\"enter the characters to be deleted \")\n",
    "index=s.index(ch)\n",
    "s1=s[0:index]+s[index+1:]\n",
    "s1\n"
   ]
  },
  {
   "cell_type": "markdown",
   "id": "956bc212",
   "metadata": {},
   "source": [
    "## Q.6 Write a  program which accepts a strings and count the frequency of each vowel."
   ]
  },
  {
   "cell_type": "code",
   "execution_count": 22,
   "id": "861b6c64",
   "metadata": {},
   "outputs": [
    {
     "name": "stdout",
     "output_type": "stream",
     "text": [
      "enter the stringdeepanshu\n",
      "e vowels are 1\n",
      "e vowels are 2\n",
      "a vowels are 3\n",
      "u vowels are 4\n"
     ]
    }
   ],
   "source": [
    "s=input(\"enter the string\")\n",
    "count_v=0\n",
    "for i in s:\n",
    "    if i in \"AEIOUaeiou\":\n",
    "        count_v=count_v+1\n",
    "        print(i,\"vowels are\",count_v)        \n",
    "        "
   ]
  },
  {
   "cell_type": "markdown",
   "id": "5ab143ee",
   "metadata": {},
   "source": [
    "## Q.7 Write a program which accepts the two strings from user and display the common words(ignore case)."
   ]
  },
  {
   "cell_type": "code",
   "execution_count": 24,
   "id": "439cc8da",
   "metadata": {},
   "outputs": [
    {
     "name": "stdout",
     "output_type": "stream",
     "text": [
      "enter the first stringdeepanshu\n",
      "enter the second stringbalmeet\n",
      "eea\n",
      "aee\n"
     ]
    }
   ],
   "source": [
    "s1=input(\"enter the first string\")\n",
    "s2=input(\"enter the second string\")\n",
    "s3=\"\"\n",
    "s4=\"\"\n",
    "for i in s1:\n",
    "    if i in s2:\n",
    "        s3=s3+i\n",
    "for j in s2:\n",
    "    if j in s1:\n",
    "        s4=s4+j\n",
    "print(s3)\n",
    "print(s4)\n"
   ]
  },
  {
   "cell_type": "markdown",
   "id": "e1679a43",
   "metadata": {},
   "source": [
    "## Q.8 WAP to remove vowels from the string."
   ]
  },
  {
   "cell_type": "code",
   "execution_count": 32,
   "id": "c2fc4155",
   "metadata": {},
   "outputs": [
    {
     "name": "stdout",
     "output_type": "stream",
     "text": [
      "enter the string  deepanshu\n"
     ]
    },
    {
     "data": {
      "text/plain": [
       "'dpnsh'"
      ]
     },
     "execution_count": 32,
     "metadata": {},
     "output_type": "execute_result"
    }
   ],
   "source": [
    "s=input(\"enter the string  \")\n",
    "s1=\"\"\n",
    "for i in s:\n",
    "    if i not in \"aeiouAEIOU\":\n",
    "        s1=s1+i\n",
    "s1"
   ]
  },
  {
   "cell_type": "markdown",
   "id": "c1c1a388",
   "metadata": {},
   "source": [
    "## Q.9 Write a program that takes full name as input and displays the abbrevations of the first and middle names except the last name which is displayed as it is. Eg:\n",
    "Robert Brett Roser output :R.B.Roser.\n"
   ]
  },
  {
   "cell_type": "code",
   "execution_count": 2,
   "id": "dd31e0f7",
   "metadata": {},
   "outputs": [
    {
     "name": "stdout",
     "output_type": "stream",
     "text": [
      "enter the full namedeepanshu singh tamta\n"
     ]
    },
    {
     "data": {
      "text/plain": [
       "'D.S.tamta'"
      ]
     },
     "execution_count": 2,
     "metadata": {},
     "output_type": "execute_result"
    }
   ],
   "source": [
    "s=input(\"enter the full name\")\n",
    "l=s.split()\n",
    "l[0][0].upper()+\".\"+l[1][0].upper()+\".\"+l[2]"
   ]
  },
  {
   "cell_type": "markdown",
   "id": "082934ac",
   "metadata": {},
   "source": [
    "## Q.10 Write a Python program to get a string made of the first 2 and the last 2 chars from a given a string. If the string length is less than 2, return instead of the empty string.\n"
   ]
  },
  {
   "cell_type": "code",
   "execution_count": 11,
   "id": "66303267",
   "metadata": {},
   "outputs": [
    {
     "name": "stdout",
     "output_type": "stream",
     "text": [
      "enter the stringdeepanshu\n",
      "dehu\n"
     ]
    }
   ],
   "source": [
    "s=input(\"enter the string\")\n",
    "if len(s)>2:\n",
    "    s1=s[0:2]+s[-2:]\n",
    "    print(s1)\n",
    "else:\n",
    "    print(\"\")\n",
    "    "
   ]
  },
  {
   "cell_type": "markdown",
   "id": "dd188e13",
   "metadata": {},
   "source": [
    "## Q.11 Write a Python program to get a single string from two given strings, \n",
    "separated by a space and swap the first two characters of each string. Go to the editor\n",
    "Sample String : 'abc', 'xyz'\n",
    "Expected Result : 'xyc abz' ''\n"
   ]
  },
  {
   "cell_type": "code",
   "execution_count": 5,
   "id": "56835bb4",
   "metadata": {},
   "outputs": [
    {
     "name": "stdout",
     "output_type": "stream",
     "text": [
      "xycabz\n"
     ]
    }
   ],
   "source": [
    "s1='abc'\n",
    "s2='xyz'\n",
    "\n",
    "s3= second[ :2] + first[2:]\n",
    "s4= first[ :2] + second[2:]\n",
    "\n",
    "swap = s3+s4\n",
    "\n",
    "print(swap)"
   ]
  },
  {
   "cell_type": "markdown",
   "id": "30c52437",
   "metadata": {},
   "source": [
    "## Q.12 Write a Python program to add 'ing' at the end of a given string (length should be at least 3). \n",
    "If the given string already ends with 'ing' then add 'ly' instead. \n",
    "If the string length of the given string is less than 3, leave it unchanged. \n",
    "Sample String : 'abc'\n"
   ]
  },
  {
   "cell_type": "code",
   "execution_count": 9,
   "id": "1001e063",
   "metadata": {},
   "outputs": [
    {
     "name": "stdout",
     "output_type": "stream",
     "text": [
      "enter the string fly\n",
      "flying\n"
     ]
    }
   ],
   "source": [
    "s=input(\"enter the string \")\n",
    "if len(s)>=3:\n",
    "    if s.endswith(\"ing\"):\n",
    "        s1=s+\"ly\"\n",
    "        print(s1)\n",
    "    else:\n",
    "        s2=s+\"ing\"\n",
    "        print(s2)\n",
    "else:\n",
    "    print(\"no change in the string\", s)"
   ]
  },
  {
   "cell_type": "markdown",
   "id": "d2aef878",
   "metadata": {},
   "source": [
    "## Q.13 Write a Python program to remove the characters which have odd index values of a given string."
   ]
  },
  {
   "cell_type": "code",
   "execution_count": 12,
   "id": "eb4df703",
   "metadata": {},
   "outputs": [
    {
     "data": {
      "text/plain": [
       "'mdi'"
      ]
     },
     "execution_count": 12,
     "metadata": {},
     "output_type": "execute_result"
    }
   ],
   "source": [
    "s=\"madrid\"\n",
    "s[::2]"
   ]
  },
  {
   "cell_type": "markdown",
   "id": "40943992",
   "metadata": {},
   "source": [
    "## Q.14 Write a Python function to convert a given string to all uppercase if it \n",
    "contains at least 2 uppercase characters in the first 4 characters.\n"
   ]
  },
  {
   "cell_type": "code",
   "execution_count": 10,
   "id": "8f2f1c6d",
   "metadata": {},
   "outputs": [
    {
     "name": "stdout",
     "output_type": "stream",
     "text": [
      "enter the stringDeePanshu\n",
      "DEEPANSHU\n"
     ]
    }
   ],
   "source": [
    "s=input(\"enter the string\")\n",
    "s1=s[0:4]\n",
    "count=0\n",
    "for i in s1:\n",
    "    if i.isupper():\n",
    "        count=count+1\n",
    "if count>=2:\n",
    "    s_upper=s.upper()\n",
    "    print(s_upper)\n",
    "else:\n",
    "    print(\"no condition met\")"
   ]
  },
  {
   "cell_type": "markdown",
   "id": "e4ce1375",
   "metadata": {},
   "source": [
    "## Q.15 Write a Python program to print the index of the character in a string.\n",
    "Sample string: madrid"
   ]
  },
  {
   "cell_type": "code",
   "execution_count": 17,
   "id": "ce3941b6",
   "metadata": {},
   "outputs": [
    {
     "name": "stdout",
     "output_type": "stream",
     "text": [
      "m ----- 1\n",
      "a ----- 2\n",
      "d ----- 3\n",
      "r ----- 4\n",
      "i ----- 5\n",
      "d ----- 6\n"
     ]
    }
   ],
   "source": [
    "s=\"madrid\"\n",
    "count=0\n",
    "for i in s:\n",
    "    count=count+1\n",
    "    print(i,\"-----\",count)\n",
    "    "
   ]
  },
  {
   "cell_type": "markdown",
   "id": "f9c8559c",
   "metadata": {},
   "source": [
    "## Q.16 Write a Python program to check whether a string contains all letters of the alphabet"
   ]
  },
  {
   "cell_type": "code",
   "execution_count": 20,
   "id": "752e3389",
   "metadata": {},
   "outputs": [
    {
     "name": "stdout",
     "output_type": "stream",
     "text": [
      "it contains all the alphabets     abcdefghijklmnopqrstuvwxyz\n"
     ]
    }
   ],
   "source": [
    "s=\"a quick brown fox jumps over the lazy dog\"\n",
    "s1=s.replace(\" \",\"\")\n",
    "s2=sorted(s1)\n",
    "a=\"\"\n",
    "s3=a.join(s2)\n",
    "unique=\"\"\n",
    "for i in s3:\n",
    "    if i not in unique:\n",
    "        unique=unique+i\n",
    "print(\"it contains all the alphabets    \",unique)  \n"
   ]
  },
  {
   "cell_type": "markdown",
   "id": "d17077a7",
   "metadata": {},
   "source": [
    "## Assignment 5"
   ]
  },
  {
   "cell_type": "markdown",
   "id": "f47ee1cd",
   "metadata": {},
   "source": [
    "## Q.1  Write a Python program to get the smallest number from a list."
   ]
  },
  {
   "cell_type": "code",
   "execution_count": 2,
   "id": "0ce3d945",
   "metadata": {},
   "outputs": [
    {
     "data": {
      "text/plain": [
       "12"
      ]
     },
     "execution_count": 2,
     "metadata": {},
     "output_type": "execute_result"
    }
   ],
   "source": [
    "l=[12,13,14,15]\n",
    "min(l)"
   ]
  },
  {
   "cell_type": "markdown",
   "id": "ca19b56e",
   "metadata": {},
   "source": [
    "## Q.2 Write a program to find unique elements of string specified by user and display unique elements in list"
   ]
  },
  {
   "cell_type": "code",
   "execution_count": 5,
   "id": "65475b3a",
   "metadata": {},
   "outputs": [
    {
     "name": "stdout",
     "output_type": "stream",
     "text": [
      "enter the string   hi how r u i m good what about you i also good\n"
     ]
    },
    {
     "data": {
      "text/plain": [
       "['hi', 'how', 'r', 'u', 'i', 'm', 'good', 'what', 'about', 'you', 'also']"
      ]
     },
     "execution_count": 5,
     "metadata": {},
     "output_type": "execute_result"
    }
   ],
   "source": [
    "s=input(\"enter the string   \")\n",
    "words=s.split()\n",
    "from collections import Counter\n",
    "Counter(words)\n",
    "unique=[]\n",
    "for i in words:\n",
    "    if i not in unique:\n",
    "        unique.append(i)\n",
    "unique        "
   ]
  },
  {
   "cell_type": "markdown",
   "id": "0fa7820a",
   "metadata": {},
   "source": [
    "## Q.3 Write a Python program to print a specified list after removing the 0th, 4th and 5th elements.\n",
    "Sample List : ['Red', 'Green', 'White', 'Black', 'Pink', 'Yellow']\n",
    "Expected Output : ['Green', 'White', 'Black']"
   ]
  },
  {
   "cell_type": "code",
   "execution_count": 1,
   "id": "6ffc7ed6",
   "metadata": {},
   "outputs": [
    {
     "name": "stdout",
     "output_type": "stream",
     "text": [
      "enter the elements in the list aba bac vab nam fag jai kala\n"
     ]
    },
    {
     "data": {
      "text/plain": [
       "['aba', 'bac', 'vab', 'nam', 'fag', 'jai', 'kala']"
      ]
     },
     "execution_count": 1,
     "metadata": {},
     "output_type": "execute_result"
    }
   ],
   "source": [
    "l=input(\"enter the elements in the list \").split()\n",
    "l"
   ]
  },
  {
   "cell_type": "code",
   "execution_count": 2,
   "id": "d7db4ee9",
   "metadata": {},
   "outputs": [
    {
     "data": {
      "text/plain": [
       "['bac', 'vab', 'nam']"
      ]
     },
     "execution_count": 2,
     "metadata": {},
     "output_type": "execute_result"
    }
   ],
   "source": [
    "l[1:4]"
   ]
  },
  {
   "cell_type": "code",
   "execution_count": null,
   "id": "64a980a1",
   "metadata": {},
   "outputs": [],
   "source": []
  },
  {
   "cell_type": "markdown",
   "id": "344a67d7",
   "metadata": {},
   "source": [
    "## Q.4 Write a program to display all the elements of odd position."
   ]
  },
  {
   "cell_type": "code",
   "execution_count": 17,
   "id": "20522f78",
   "metadata": {},
   "outputs": [
    {
     "data": {
      "text/plain": [
       "[14, 780, 56, 54]"
      ]
     },
     "execution_count": 17,
     "metadata": {},
     "output_type": "execute_result"
    }
   ],
   "source": [
    "l=[12,14,15,780,0,56,4,54,6]\n",
    "l[1::2]"
   ]
  },
  {
   "cell_type": "markdown",
   "id": "925a2777",
   "metadata": {},
   "source": [
    "## Q.5  Write a Python program to convert a string to a list."
   ]
  },
  {
   "cell_type": "code",
   "execution_count": 4,
   "id": "f4762e71",
   "metadata": {},
   "outputs": [
    {
     "name": "stdout",
     "output_type": "stream",
     "text": [
      "enter the string madrid\n"
     ]
    },
    {
     "data": {
      "text/plain": [
       "['m', 'a', 'd', 'r', 'i', 'd']"
      ]
     },
     "execution_count": 4,
     "metadata": {},
     "output_type": "execute_result"
    }
   ],
   "source": [
    "s=input(\"enter the string \")\n",
    "s\n",
    "list(s)"
   ]
  },
  {
   "cell_type": "markdown",
   "id": "3eb5e7e0",
   "metadata": {},
   "source": [
    "## Q.6 Write a Python program to insert an element at a specified position into a given list.\n",
    "Original list:\n",
    "[1, 1, 2, 3, 4, 4, 5, 1]\n",
    "After inserting an element at kth position in the said list:\n",
    "[1, 1, 12, 2, 3, 4, 4, 5, 1]"
   ]
  },
  {
   "cell_type": "code",
   "execution_count": 6,
   "id": "3e88ca29",
   "metadata": {},
   "outputs": [
    {
     "name": "stdout",
     "output_type": "stream",
     "text": [
      "enter the element 12\n",
      "enter the postion at which new element is to be added2\n"
     ]
    },
    {
     "data": {
      "text/plain": [
       "[1, 1, '12', 2, 3, 4, 4, 5, 1]"
      ]
     },
     "execution_count": 6,
     "metadata": {},
     "output_type": "execute_result"
    }
   ],
   "source": [
    "l=[1, 1, 2, 3, 4, 4, 5, 1]\n",
    "e=input(\"enter the element \")\n",
    "pos=int(input(\"enter the postion at which new element is to be added\"))\n",
    "l.insert(pos,e)\n",
    "l"
   ]
  },
  {
   "cell_type": "markdown",
   "id": "c2588572",
   "metadata": {},
   "source": [
    "## Q.7 How to reverse the List using slice"
   ]
  },
  {
   "cell_type": "code",
   "execution_count": 7,
   "id": "15ca1723",
   "metadata": {},
   "outputs": [
    {
     "data": {
      "text/plain": [
       "[1, 5, 4, 4, 3, 2, 1, 1]"
      ]
     },
     "execution_count": 7,
     "metadata": {},
     "output_type": "execute_result"
    }
   ],
   "source": [
    "l=[1, 1, 2, 3, 4, 4, 5, 1]\n",
    "l[-1::-1]"
   ]
  },
  {
   "cell_type": "markdown",
   "id": "4e67fc8d",
   "metadata": {},
   "source": [
    "## Q.8 How to get the square of each list element between two range"
   ]
  },
  {
   "cell_type": "code",
   "execution_count": 9,
   "id": "70ade399",
   "metadata": {},
   "outputs": [
    {
     "name": "stdout",
     "output_type": "stream",
     "text": [
      "enter the start  2\n",
      "enter the end  10\n"
     ]
    },
    {
     "data": {
      "text/plain": [
       "[4, 9, 16, 25, 36, 49, 64, 81, 100]"
      ]
     },
     "execution_count": 9,
     "metadata": {},
     "output_type": "execute_result"
    }
   ],
   "source": [
    "start=int(input(\"enter the start  \"))\n",
    "end=int(input(\"enter the end  \"))\n",
    "l=[]\n",
    "for i in range(start,end+1):\n",
    "    sq=i**2\n",
    "    l.append(sq)\n",
    "l    \n"
   ]
  },
  {
   "cell_type": "markdown",
   "id": "a27756fa",
   "metadata": {},
   "source": [
    "## Q.9 How to Filter even values from a list using list comprehension"
   ]
  },
  {
   "cell_type": "code",
   "execution_count": 10,
   "id": "c010a408",
   "metadata": {},
   "outputs": [
    {
     "name": "stdout",
     "output_type": "stream",
     "text": [
      "enter the start  2\n",
      "enter the end  10\n"
     ]
    }
   ],
   "source": [
    "start=int(input(\"enter the start  \"))\n",
    "end=int(input(\"enter the end  \"))\n"
   ]
  },
  {
   "cell_type": "code",
   "execution_count": 14,
   "id": "dfef52b7",
   "metadata": {},
   "outputs": [
    {
     "data": {
      "text/plain": [
       "[2, 4, 6, 8, 10]"
      ]
     },
     "execution_count": 14,
     "metadata": {},
     "output_type": "execute_result"
    }
   ],
   "source": [
    "[i for i in range(start,end+1) if i%2==0 ]"
   ]
  },
  {
   "cell_type": "markdown",
   "id": "68d8e27a",
   "metadata": {},
   "source": [
    "## Q.10  How to remove elements in a list before a specific index"
   ]
  },
  {
   "cell_type": "code",
   "execution_count": 20,
   "id": "9dde8fef",
   "metadata": {},
   "outputs": [
    {
     "data": {
      "text/plain": [
       "[12, 13, 14, 15]"
      ]
     },
     "execution_count": 20,
     "metadata": {},
     "output_type": "execute_result"
    }
   ],
   "source": [
    "l=[12,13,14,15,16]\n",
    "l.pop()\n",
    "l\n",
    "4"
   ]
  },
  {
   "cell_type": "markdown",
   "id": "ef85c44b",
   "metadata": {},
   "source": [
    "## Q.11 ## wap to reverse each  elements of the list \n",
    "l1=[\"23\",\"78\",\"hello\",\"nitin\",\"okay\"] #output : l[\"32\",\"87\",\"olleh\",\"nitin\",yako\"]\n",
    "l2=[23,\"78\",\"hello\",\"nitin\",\"okay\"]   #output : l[\"32\",\"87\",\"olleh\",\"nitin\",yako\"]\n"
   ]
  },
  {
   "cell_type": "code",
   "execution_count": 28,
   "id": "5ade7e9d",
   "metadata": {},
   "outputs": [
    {
     "data": {
      "text/plain": [
       "['32', '87', 'olleh', 'nitin', 'yako']"
      ]
     },
     "execution_count": 28,
     "metadata": {},
     "output_type": "execute_result"
    }
   ],
   "source": [
    "l1=[\"23\",\"78\",\"hello\",\"nitin\",\"okay\"]\n",
    "l3=[]\n",
    "for i in l1:\n",
    "    rev=i[::-1]\n",
    "    l3.append(rev)\n",
    "l3    "
   ]
  },
  {
   "cell_type": "code",
   "execution_count": 33,
   "id": "33a5d970",
   "metadata": {},
   "outputs": [
    {
     "data": {
      "text/plain": [
       "['32', '87', 'olleh', 'nitin', 'yako']"
      ]
     },
     "execution_count": 33,
     "metadata": {},
     "output_type": "execute_result"
    }
   ],
   "source": [
    "l2=[23,\"78\",\"hello\",\"nitin\",\"okay\"]\n",
    "l4=[]\n",
    "for i in l2:\n",
    "    rev=str(i)\n",
    "    f=rev[::-1]\n",
    "    l4.append(f)\n",
    "l4"
   ]
  },
  {
   "cell_type": "markdown",
   "id": "237b537f",
   "metadata": {},
   "source": [
    "## Q.12 ## wap to display the square of int numbers and cube of float numbers of the list otherwise display hello\n",
    "example:\n",
    "[20,80,90.6,\"ji\",901]   ## input\n",
    "[400, 6400, 743677.4159999999, 'heelo', 811801]  ## output\n"
   ]
  },
  {
   "cell_type": "code",
   "execution_count": 38,
   "id": "2b20ba89",
   "metadata": {},
   "outputs": [],
   "source": [
    "import math"
   ]
  },
  {
   "cell_type": "code",
   "execution_count": 46,
   "id": "c9e8e388",
   "metadata": {},
   "outputs": [
    {
     "data": {
      "text/plain": [
       "[4.47213595499958,\n",
       " 8.94427190999916,\n",
       " 743677.4159999999,\n",
       " 'hello',\n",
       " 30.01666203960727]"
      ]
     },
     "execution_count": 46,
     "metadata": {},
     "output_type": "execute_result"
    }
   ],
   "source": [
    "l=[20,80,90.6,\"ji\",901]\n",
    "for i in l:\n",
    "    if type(i)==(int):\n",
    "        s=math.sqrt(i)\n",
    "        l[l.index(i)]=s\n",
    "    elif type(i)==float:\n",
    "        s1=i**3\n",
    "        l[l.index(i)]=s1\n",
    "    elif type(i)==str:\n",
    "        l[l.index(i)]=\"hello\"\n",
    "        \n",
    "l        "
   ]
  },
  {
   "cell_type": "code",
   "execution_count": null,
   "id": "434492ca",
   "metadata": {},
   "outputs": [],
   "source": []
  }
 ],
 "metadata": {
  "kernelspec": {
   "display_name": "Python 3 (ipykernel)",
   "language": "python",
   "name": "python3"
  },
  "language_info": {
   "codemirror_mode": {
    "name": "ipython",
    "version": 3
   },
   "file_extension": ".py",
   "mimetype": "text/x-python",
   "name": "python",
   "nbconvert_exporter": "python",
   "pygments_lexer": "ipython3",
   "version": "3.9.13"
  }
 },
 "nbformat": 4,
 "nbformat_minor": 5
}
